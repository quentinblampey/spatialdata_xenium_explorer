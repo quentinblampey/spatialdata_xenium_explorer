{
 "cells": [
  {
   "cell_type": "markdown",
   "metadata": {},
   "source": [
    "# Requirements\n",
    "For this tutorial, you will need `python >= 3.9`.\n",
    "\n",
    "Make sure to install `spatialdata_io >= 0.0.9` and `spatialdata_xenium_explorer >= 1.0.4`, i.e.:\n",
    "```sh\n",
    "pip install spatialdata-io\n",
    "pip install spatialdata_xenium_explorer\n",
    "```"
   ]
  },
  {
   "cell_type": "code",
   "execution_count": 1,
   "metadata": {},
   "outputs": [],
   "source": [
    "import spatialdata_io\n",
    "import spatialdata_xenium_explorer"
   ]
  },
  {
   "cell_type": "markdown",
   "metadata": {},
   "source": [
    "# 1. Download tutorial data\n",
    "\n",
    "This tutorial is based on a Xenium sample of human skin, which can be downloaded on this [10x Genomics webpage](https://www.10xgenomics.com/datasets/human-skin-preview-data-xenium-human-skin-gene-expression-panel-add-on-1-standard).\n",
    "In particular, download the following directory/file:\n",
    "- [Xenium Output Bundle (full)](https://cf.10xgenomics.com/samples/xenium/1.7.0/Xeniumranger_V1_hSkin_Melanoma_Add_on_FFPE/Xeniumranger_V1_hSkin_Melanoma_Add_on_FFPE_outs.zip) (unzip it into a directory)\n",
    "- [Supplemental: Post-Xenium H&E image (OME-TIFF)](https://cf.10xgenomics.com/samples/xenium/1.7.0/Xeniumranger_V1_hSkin_Melanoma_Add_on_FFPE/Xeniumranger_V1_hSkin_Melanoma_Add_on_FFPE_he_image.ome.tif) (move it into the latter directory)"
   ]
  },
  {
   "cell_type": "markdown",
   "metadata": {},
   "source": [
    "# 2. Read the Xenium data"
   ]
  },
  {
   "cell_type": "code",
   "execution_count": 2,
   "metadata": {},
   "outputs": [],
   "source": [
    "# directory containing the Xenium data you downloaded\n",
    "data_path = \"Xeniumranger_V1_hSkin_Melanoma_Add_on_FFPE_outs\""
   ]
  },
  {
   "cell_type": "markdown",
   "metadata": {},
   "source": [
    "The Xenium data can be read by `spatialdata-io`:"
   ]
  },
  {
   "cell_type": "code",
   "execution_count": 3,
   "metadata": {},
   "outputs": [
    {
     "name": "stdout",
     "output_type": "stream",
     "text": [
      "\u001b[34mINFO    \u001b[0m reading Xeniumranger_V1_hSkin_Melanoma_Add_on_FFPE_outs/cell_feature_matrix.h5                            \n"
     ]
    },
    {
     "name": "stderr",
     "output_type": "stream",
     "text": [
      "/Users/quentinblampey/Library/Caches/pypoetry/virtualenvs/spatialdata-xenium-explorer-yAxRBYoR-py3.9/lib/python3.9/site-packages/spatialdata/models/models.py:725: FutureWarning: is_categorical_dtype is deprecated and will be removed in a future version. Use isinstance(dtype, CategoricalDtype) instead\n",
      "  if not is_categorical_dtype(adata.obs[region_key]):\n",
      "/Users/quentinblampey/Library/Caches/pypoetry/virtualenvs/spatialdata-xenium-explorer-yAxRBYoR-py3.9/lib/python3.9/site-packages/spatialdata_io/readers/xenium.py:197: UserWarning: Converting `region_key: region` to categorical dtype.\n",
      "  table = TableModel.parse(adata, region=specs[\"region\"], region_key=\"region\", instance_key=str(XeniumKeys.CELL_ID))\n",
      "/Users/quentinblampey/Library/Caches/pypoetry/virtualenvs/spatialdata-xenium-explorer-yAxRBYoR-py3.9/lib/python3.9/site-packages/spatialdata/models/models.py:620: FutureWarning: is_categorical_dtype is deprecated and will be removed in a future version. Use isinstance(dtype, CategoricalDtype) instead\n",
      "  if is_categorical_dtype(data[c]) and not data[c].cat.known:\n",
      "/Users/quentinblampey/Library/Caches/pypoetry/virtualenvs/spatialdata-xenium-explorer-yAxRBYoR-py3.9/lib/python3.9/site-packages/spatialdata/models/models.py:620: FutureWarning: is_categorical_dtype is deprecated and will be removed in a future version. Use isinstance(dtype, CategoricalDtype) instead\n",
      "  if is_categorical_dtype(data[c]) and not data[c].cat.known:\n",
      "/Users/quentinblampey/Library/Caches/pypoetry/virtualenvs/spatialdata-xenium-explorer-yAxRBYoR-py3.9/lib/python3.9/site-packages/spatialdata/models/models.py:466: FutureWarning: is_categorical_dtype is deprecated and will be removed in a future version. Use isinstance(dtype, CategoricalDtype) instead\n",
      "  if not is_categorical_dtype(data[feature_key]):\n",
      "/Users/quentinblampey/Library/Caches/pypoetry/virtualenvs/spatialdata-xenium-explorer-yAxRBYoR-py3.9/lib/python3.9/site-packages/spatialdata/models/models.py:466: FutureWarning: is_categorical_dtype is deprecated and will be removed in a future version. Use isinstance(dtype, CategoricalDtype) instead\n",
      "  if not is_categorical_dtype(data[feature_key]):\n"
     ]
    }
   ],
   "source": [
    "sdata = spatialdata_io.xenium(data_path)"
   ]
  },
  {
   "cell_type": "code",
   "execution_count": 4,
   "metadata": {},
   "outputs": [
    {
     "data": {
      "text/plain": [
       "SpatialData object with:\n",
       "├── Images\n",
       "│     ├── 'morphology_focus': MultiscaleSpatialImage[cyx] (1, 13725, 28467), (1, 6862, 14233), (1, 3431, 7116), (1, 1715, 3558), (1, 857, 1779)\n",
       "│     └── 'morphology_mip': MultiscaleSpatialImage[cyx] (1, 13725, 28467), (1, 6862, 14233), (1, 3431, 7116), (1, 1715, 3558), (1, 857, 1779)\n",
       "├── Points\n",
       "│     └── 'transcripts': DataFrame with shape: (<Delayed>, 10) (3D points)\n",
       "├── Shapes\n",
       "│     ├── 'cell_boundaries': GeoDataFrame shape: (87499, 1) (2D shapes)\n",
       "│     └── 'nucleus_boundaries': GeoDataFrame shape: (87499, 1) (2D shapes)\n",
       "└── Table\n",
       "      └── AnnData object with n_obs × n_vars = 87499 × 382\n",
       "    obs: 'cell_id', 'transcript_counts', 'control_probe_counts', 'control_codeword_counts', 'unassigned_codeword_counts', 'deprecated_codeword_counts', 'total_counts', 'cell_area', 'nucleus_area', 'region'\n",
       "    var: 'gene_ids', 'feature_types', 'genome'\n",
       "    uns: 'spatialdata_attrs'\n",
       "    obsm: 'spatial': AnnData (87499, 382)\n",
       "with coordinate systems:\n",
       "▸ 'global', with elements:\n",
       "        morphology_focus (Images), morphology_mip (Images), transcripts (Points), cell_boundaries (Shapes), nucleus_boundaries (Shapes)"
      ]
     },
     "execution_count": 4,
     "metadata": {},
     "output_type": "execute_result"
    }
   ],
   "source": [
    "sdata"
   ]
  },
  {
   "cell_type": "markdown",
   "metadata": {},
   "source": [
    "# 3. Image alignment"
   ]
  },
  {
   "cell_type": "markdown",
   "metadata": {},
   "source": [
    "### Alignment from the Xenium Explorer to `SpatialData`"
   ]
  },
  {
   "cell_type": "code",
   "execution_count": null,
   "metadata": {},
   "outputs": [],
   "source": []
  },
  {
   "cell_type": "markdown",
   "metadata": {},
   "source": [
    "Update the `SpatialData` object"
   ]
  },
  {
   "cell_type": "code",
   "execution_count": 5,
   "metadata": {},
   "outputs": [],
   "source": [
    "from spatialdata_xenium_explorer.core.images import ome_tif\n",
    "from pathlib import Path"
   ]
  },
  {
   "cell_type": "code",
   "execution_count": 6,
   "metadata": {},
   "outputs": [
    {
     "name": "stderr",
     "output_type": "stream",
     "text": [
      "\u001b[36;20m[INFO] (spatialdata_xenium_explorer.core.images)\u001b[0m Transformed 4D image into a 3D image of shape (c, y, x) = (3, 43287, 22209)\n",
      "\u001b[33;20m[WARNING] (spatialdata_xenium_explorer.core.images)\u001b[0m Channel names couldn't be read. Using ['0', '1', '2'] instead.\n"
     ]
    }
   ],
   "source": [
    "h_and_e = ome_tif(Path(data_path) / \"Xeniumranger_V1_hSkin_Melanoma_Add_on_FFPE_he_image.ome.tif\")"
   ]
  },
  {
   "cell_type": "code",
   "execution_count": 8,
   "metadata": {},
   "outputs": [
    {
     "name": "stdout",
     "output_type": "stream",
     "text": [
      "\u001b[34mINFO    \u001b[0m `dims` is specified redundantly: found also inside `data`.                                                \n"
     ]
    },
    {
     "name": "stderr",
     "output_type": "stream",
     "text": [
      "\u001b[36;20m[INFO] (spatialdata_xenium_explorer.core.images)\u001b[0m Adding image image:\n",
      "<xarray.SpatialImage 'image' (c: 3, y: 43287, x: 22209)>\n",
      "dask.array<rechunk-merge, shape=(3, 43287, 22209), dtype=uint8, chunksize=(1, 4096, 4096), chunktype=numpy.ndarray>\n",
      "Coordinates:\n",
      "  * c        (c) <U1 '0' '1' '2'\n",
      "  * y        (y) float64 0.5 1.5 2.5 3.5 ... 4.328e+04 4.329e+04 4.329e+04\n",
      "  * x        (x) float64 0.5 1.5 2.5 3.5 ... 2.221e+04 2.221e+04 2.221e+04\n",
      "Attributes:\n",
      "    transform:  {'global': Affine (x, y -> x, y)\\n    [1.83698152e-03 6.44010...\n"
     ]
    }
   ],
   "source": [
    "image_key = \"morphology_mip\"\n",
    "\n",
    "spatialdata_xenium_explorer.align(sdata, h_and_e, \"Xeniumranger_V1_hSkin_Melanoma_Add_on_FFPE_he_imagealignment.csv\", image_key=image_key)"
   ]
  },
  {
   "cell_type": "code",
   "execution_count": 9,
   "metadata": {},
   "outputs": [
    {
     "data": {
      "text/plain": [
       "SpatialData object with:\n",
       "├── Images\n",
       "│     ├── 'Xeniumranger_V1_hSkin_Melanoma_Add_on_FFPE_he_image': SpatialImage[cyx] (3, 43287, 22209)\n",
       "│     ├── 'morphology_focus': MultiscaleSpatialImage[cyx] (1, 13725, 28467), (1, 6862, 14233), (1, 3431, 7116), (1, 1715, 3558), (1, 857, 1779)\n",
       "│     └── 'morphology_mip': MultiscaleSpatialImage[cyx] (1, 13725, 28467), (1, 6862, 14233), (1, 3431, 7116), (1, 1715, 3558), (1, 857, 1779)\n",
       "├── Points\n",
       "│     └── 'transcripts': DataFrame with shape: (<Delayed>, 10) (3D points)\n",
       "├── Shapes\n",
       "│     ├── 'cell_boundaries': GeoDataFrame shape: (87499, 1) (2D shapes)\n",
       "│     └── 'nucleus_boundaries': GeoDataFrame shape: (87499, 1) (2D shapes)\n",
       "└── Table\n",
       "      └── AnnData object with n_obs × n_vars = 87499 × 382\n",
       "    obs: 'cell_id', 'transcript_counts', 'control_probe_counts', 'control_codeword_counts', 'unassigned_codeword_counts', 'deprecated_codeword_counts', 'total_counts', 'cell_area', 'nucleus_area', 'region'\n",
       "    var: 'gene_ids', 'feature_types', 'genome'\n",
       "    uns: 'spatialdata_attrs'\n",
       "    obsm: 'spatial': AnnData (87499, 382)\n",
       "with coordinate systems:\n",
       "▸ 'global', with elements:\n",
       "        Xeniumranger_V1_hSkin_Melanoma_Add_on_FFPE_he_image (Images), morphology_focus (Images), morphology_mip (Images), transcripts (Points), cell_boundaries (Shapes), nucleus_boundaries (Shapes)"
      ]
     },
     "execution_count": 9,
     "metadata": {},
     "output_type": "execute_result"
    }
   ],
   "source": [
    "sdata"
   ]
  },
  {
   "cell_type": "markdown",
   "metadata": {},
   "source": [
    "### Alignment from `SpatialData` to the Xenium Explorer"
   ]
  },
  {
   "cell_type": "code",
   "execution_count": 24,
   "metadata": {},
   "outputs": [],
   "source": [
    "from spatialdata.transformations import get_transformation, Affine\n",
    "import numpy as np"
   ]
  },
  {
   "cell_type": "code",
   "execution_count": 29,
   "metadata": {},
   "outputs": [],
   "source": [
    "spatial_element = sdata[\"Xeniumranger_V1_hSkin_Melanoma_Add_on_FFPE_he_image\"]\n",
    "\n",
    "transformation = get_transformation(spatial_element, to_coordinate_system=\"global\")"
   ]
  },
  {
   "cell_type": "code",
   "execution_count": 30,
   "metadata": {},
   "outputs": [],
   "source": [
    "assert isinstance(transformation, Affine), \"The Xenium Explorer only supports Affine transformations\"\n",
    "\n",
    "np.savetxt(\"alignment_matrix.csv\", transformation.matrix, delimiter=\",\")"
   ]
  },
  {
   "cell_type": "markdown",
   "metadata": {},
   "source": [
    "# 4. Update the cells on the Explorer\n",
    "\n",
    "### Update the cell categories"
   ]
  },
  {
   "cell_type": "code",
   "execution_count": null,
   "metadata": {},
   "outputs": [],
   "source": [
    "import scanpy as sc\n",
    "\n",
    "sc.pp.normalize_total(sdata.table)\n",
    "sc.pp.log1p(sdata.table)\n",
    "sc.pp.pca(sdata.table)\n",
    "sc.pp.neighbors(sdata.table)\n",
    "sc.tl.leiden(sdata.table)"
   ]
  },
  {
   "cell_type": "markdown",
   "metadata": {},
   "source": [
    "Now, you can update the explorer with your new cluster assignment. You don't need to re-run the complete conversion; you can edit the `analysis.zarr.zip` file only, as below.\n",
    "\n",
    "> Alternatively, you can use the `spatialdata_xenium_explorer` CLI instead of the API, as detailed [here](https://quentinblampey.github.io/spatialdata_xenium_explorer/cli/#update-obs)."
   ]
  },
  {
   "cell_type": "code",
   "execution_count": null,
   "metadata": {},
   "outputs": [],
   "source": [
    "spatialdata_xenium_explorer.write_cell_categories(explorer_path, sdata.table)"
   ]
  },
  {
   "cell_type": "markdown",
   "metadata": {},
   "source": [
    "To visualize these clusters, re-open the `experiment.xenium` file and select the new `\"leiden\"` cell group (under the \"Cells\" panel and in the \"Cell groups\" dropdown). See the examples above to see how it looks on the Xenium Explorer."
   ]
  },
  {
   "cell_type": "markdown",
   "metadata": {},
   "source": [
    "### Update the cells boundaries"
   ]
  },
  {
   "cell_type": "code",
   "execution_count": null,
   "metadata": {},
   "outputs": [],
   "source": []
  },
  {
   "cell_type": "markdown",
   "metadata": {},
   "source": [
    "# 5. Select cells from the lasso tool"
   ]
  },
  {
   "cell_type": "code",
   "execution_count": null,
   "metadata": {},
   "outputs": [],
   "source": []
  }
 ],
 "metadata": {
  "kernelspec": {
   "display_name": "spatialdata-xenium-explorer-yAxRBYoR-py3.9",
   "language": "python",
   "name": "python3"
  },
  "language_info": {
   "codemirror_mode": {
    "name": "ipython",
    "version": 3
   },
   "file_extension": ".py",
   "mimetype": "text/x-python",
   "name": "python",
   "nbconvert_exporter": "python",
   "pygments_lexer": "ipython3",
   "version": "3.9.16"
  }
 },
 "nbformat": 4,
 "nbformat_minor": 2
}
